{
  "nbformat": 4,
  "nbformat_minor": 0,
  "metadata": {
    "colab": {
      "name": "CovidParser.ipynb",
      "provenance": [],
      "collapsed_sections": []
    },
    "kernelspec": {
      "name": "python3",
      "display_name": "Python 3"
    },
    "language_info": {
      "name": "python"
    }
  },
  "cells": [
    {
      "cell_type": "code",
      "metadata": {
        "id": "anXvy5R94hsh"
      },
      "source": [
        "!curl https://raw.githubusercontent.com/Iznogohul/CovidParser/main/util.sh > /content/util.sh\n",
        "!curl https://raw.githubusercontent.com/Iznogohul/CovidParser/main/requirements.txt > /content/requirements.txt\n",
        "!bash /content/util.sh"
      ],
      "execution_count": null,
      "outputs": []
    },
    {
      "cell_type": "code",
      "metadata": {
        "id": "F_RjfKSWHdCr",
        "colab": {
          "base_uri": "https://localhost:8080/"
        },
        "outputId": "f2286e6f-a818-4e0e-cd99-67ebe89f5671"
      },
      "source": [
        "!curl https://raw.githubusercontent.com/Iznogohul/CovidParser/main/CovidParser.py > /content/CovidParser.py\n",
        "!python /content/CovidParser.py"
      ],
      "execution_count": 45,
      "outputs": [
        {
          "output_type": "stream",
          "name": "stdout",
          "text": [
            "  % Total    % Received % Xferd  Average Speed   Time    Time     Time  Current\n",
            "                                 Dload  Upload   Total   Spent    Left  Speed\n",
            "\r  0     0    0     0    0     0      0      0 --:--:-- --:--:-- --:--:--     0\r100  5485  100  5485    0     0  76180      0 --:--:-- --:--:-- --:--:-- 76180\n"
          ]
        }
      ]
    },
    {
      "cell_type": "code",
      "metadata": {
        "colab": {
          "base_uri": "https://localhost:8080/",
          "height": 270
        },
        "id": "MJhGqyKxnQpt",
        "outputId": "fa1b3b35-a245-4771-8000-e39bc94dbbf0"
      },
      "source": [
        "import matplotlib.pyplot as plt\n",
        "import pandas as pd\n",
        "#Works with any subset of the output.csv and any csv with 3 columns but plots the last 2\n",
        "msft = pd.read_csv(\"/content/output/output.csv\",sep=',')\n",
        "plt.figure()\n",
        "plt.subplot(211)\n",
        "plt.bar(msft.iloc[:, 0], msft.iloc[:, 2])\n",
        "plt.title(\"Deaths\")\n",
        "plt.xticks([])\n",
        "plt.subplot(212)\n",
        "plt.bar(msft.iloc[:, 0], msft.iloc[:, 1])\n",
        "plt.title(\"Infections\")\n",
        "plt.xticks([])\n",
        "plt.show()\n"
      ],
      "execution_count": 47,
      "outputs": [
        {
          "output_type": "display_data",
          "data": {
            "image/png": "[encoded data removed]",
            "text/plain": [
              "<Figure size 432x288 with 2 Axes>"
            ]
          },
          "metadata": {
            "needs_background": "light"
          }
        }
      ]
    }
  ]
}