{
  "nbformat": 4,
  "nbformat_minor": 0,
  "metadata": {
    "colab": {
      "name": "CovidParser.ipynb",
      "provenance": [],
      "collapsed_sections": []
    },
    "kernelspec": {
      "name": "python3",
      "display_name": "Python 3"
    },
    "language_info": {
      "name": "python"
    }
  },
  "cells": [
    {
      "cell_type": "code",
      "metadata": {
        "id": "anXvy5R94hsh"
      },
      "source": [
        "!curl https://raw.githubusercontent.com/Iznogohul/CovidParser/main/util.sh > /content/util.sh\n",
        "!curl https://raw.githubusercontent.com/Iznogohul/CovidParser/main/requirements.txt > /content/requirements.txt\n",
        "!bash /content/util.sh"
      ],
      "execution_count": null,
      "outputs": []
    },
    {
      "cell_type": "code",
      "metadata": {
        "id": "F_RjfKSWHdCr"
      },
      "source": [
        "!curl https://raw.githubusercontent.com/Iznogohul/CovidParser/main/CovidParser.py > /content/CovidParser.py\n",
        "!python /content/CovidParser.py"
      ],
      "execution_count": 466,
      "outputs": []
    },
    {
      "cell_type": "code",
      "metadata": {
        "id": "MJhGqyKxnQpt"
      },
      "source": [
        "import matplotlib.pyplot as plt\n",
        "import pandas as pd\n",
        "#Works with any subset of the output.csv and any csv with 3 columns but plots the last 2\n",
        "msft = pd.read_csv(\"/content/output/output.csv\",sep=',')\n",
        "\n",
        "plt.figure()\n",
        "plt.bar(msft.iloc[:, 0], msft.iloc[:, 2])\n",
        "plt.title(\"Deaths\")\n",
        "plt.xticks(rotation=45)\n",
        "plt.show()\n",
        "\n",
        "plt.figure()\n",
        "plt.bar(msft.iloc[:, 0], msft.iloc[:, 1])\n",
        "plt.title(\"Infections\")\n",
        "plt.xticks(rotation=45)\n",
        "plt.show()\n"
      ],
      "execution_count": null,
      "outputs": []
    },
    {
      "cell_type": "code",
      "metadata": {
        "id": "cyWJfyTEOb9a"
      },
      "source": [
        "import altair as alt\n",
        "import pandas as pd\n",
        "from altair.expr import datum\n",
        "#Works with any subset of the output.csv and any csv with 3 columns but plots the last 2\n",
        "msft = pd.read_csv(\"/content/output/output.csv\",sep=',')\n",
        "hover = alt.selection_single(on='mouseover', nearest=True, empty='none')\n",
        "base = alt.Chart(msft).mark_bar().encode(\n",
        "    x=alt.X(' Date ',axis=alt.Axis(labels=False)),\n",
        "    y=' Infections ',\n",
        "    color=alt.condition(hover, ' Infections ', alt.value('gray')),\n",
        "    \n",
        ").properties(\n",
        "    width=800,\n",
        "    height=600,\n",
        "    title='Covid Infections'\n",
        ")\n",
        "points = base.mark_point().add_selection(\n",
        "    hover\n",
        ")\n",
        "\n",
        "text = base.mark_text(\n",
        "    baseline='top'\n",
        ").encode(\n",
        "    y=alt.value(0),\n",
        "    text = ' Infections ',\n",
        "    opacity = alt.condition(hover, alt.value(1), alt.value(0))\n",
        ")\n",
        "\n",
        "alt.layer(\n",
        "  points,\n",
        "  text,\n",
        "  base.mark_bar(\n",
        "    size=2\n",
        ")\n",
        ").configure_view(\n",
        "    strokeWidth=1,\n",
        "    fill='#FFEEDD',\n",
        "    stroke='black',\n",
        "    cornerRadius=5\n",
        ").configure_axis(\n",
        "    domainWidth=0,\n",
        "    labelFontSize=10,\n",
        "    ticks=False\n",
        ").configure_legend(\n",
        "    strokeColor='gray',\n",
        "    fillColor='#EEEEEE',\n",
        "    padding=10,\n",
        "    cornerRadius=100,\n",
        "    orient='bottom'\n",
        ").configure_title(\n",
        "    fontSize=20,\n",
        "    font='Courier',\n",
        "    anchor='middle',\n",
        "    color='gray'\n",
        ").interactive(\n",
        "    bind_y=False\n",
        ")"
      ],
      "execution_count": null,
      "outputs": []
    },
    {
      "cell_type": "code",
      "metadata": {
        "id": "8cj8GjyTcjWa"
      },
      "source": [
        "import altair as alt\n",
        "import pandas as pd\n",
        "from altair.expr import datum\n",
        "#Works with any subset of the output.csv and any csv with 3 columns but plots the last 2\n",
        "msft = pd.read_csv(\"/content/output/output.csv\",sep=',')\n",
        "hover = alt.selection_single(on='mouseover', nearest=True, empty='none')\n",
        "base = alt.Chart(msft).mark_bar().encode(\n",
        "    x=alt.X(' Date ',axis=alt.Axis(labels=False)),\n",
        "    y=' Deaths ',\n",
        "    color=alt.condition(hover, ' Deaths ', alt.value('gray')),\n",
        "    \n",
        ").properties(\n",
        "    width=800,\n",
        "    height=600,\n",
        "    title='Covid Deaths'\n",
        ")\n",
        "points = base.mark_point().add_selection(\n",
        "    hover\n",
        ")\n",
        "\n",
        "text = base.mark_text(\n",
        "    baseline='top'\n",
        ").encode(\n",
        "    y=alt.value(0),\n",
        "    text = ' Deaths ',\n",
        "    opacity = alt.condition(hover, alt.value(1), alt.value(0))\n",
        ")\n",
        "\n",
        "alt.layer(\n",
        "  points,\n",
        "  text,\n",
        "  base.mark_bar(\n",
        "    size=2\n",
        ")\n",
        ").configure_view(\n",
        "    strokeWidth=1,\n",
        "    fill='#FFEEDD',\n",
        "    stroke='black',\n",
        "    cornerRadius=5\n",
        ").configure_axis(\n",
        "    domainWidth=0,\n",
        "    labelFontSize=10,\n",
        "    ticks=False\n",
        ").configure_legend(\n",
        "    strokeColor='gray',\n",
        "    fillColor='#EEEEEE',\n",
        "    padding=10,\n",
        "    cornerRadius=100,\n",
        "    orient='bottom'\n",
        ").configure_title(\n",
        "    fontSize=20,\n",
        "    font='Courier',\n",
        "    anchor='middle',\n",
        "    color='gray'\n",
        ").interactive(\n",
        "    bind_y=False\n",
        ")"
      ],
      "execution_count": null,
      "outputs": []
    }
  ]
}